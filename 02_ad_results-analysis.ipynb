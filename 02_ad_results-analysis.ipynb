{
 "cells": [
  {
   "cell_type": "markdown",
   "metadata": {
    "id": "06jfJON-h096"
   },
   "source": [
    "# Analysis of Results of Pure Anomaly Detection\n",
    "Results of original GEE VAE autoencoder"
   ]
  },
  {
   "cell_type": "markdown",
   "metadata": {
    "id": "lAX_3LHJ2X2h"
   },
   "source": [
    "## Environment Setting\n",
    "Import libraries/packages/modules"
   ]
  },
  {
   "cell_type": "code",
   "execution_count": null,
   "metadata": {
    "id": "yDfyCYLm4oPW"
   },
   "outputs": [],
   "source": [
    "import pandas as pd\n",
    "from sklearn import metrics\n",
    "import matplotlib.pyplot as plt\n",
    "import seaborn as sns"
   ]
  },
  {
   "cell_type": "markdown",
   "metadata": {
    "id": "y7bH5s7BincW"
   },
   "source": [
    "## Load Results and Run Analysis"
   ]
  },
  {
   "cell_type": "code",
   "execution_count": null,
   "metadata": {
    "id": "HdlGQtLH4cM8"
   },
   "outputs": [],
   "source": [
    "results = pd.read_feather('results_ad_test.feather.with_mse')"
   ]
  },
  {
   "cell_type": "code",
   "execution_count": null,
   "metadata": {
    "id": "SAkdXLOu8906"
   },
   "outputs": [],
   "source": [
    "results.groupby('labels').describe().unstack(1).reset_index().pivot(index='labels', values=0, columns='level_1')"
   ]
  },
  {
   "cell_type": "code",
   "execution_count": null,
   "metadata": {
    "id": "MQOK0Lh8Cyq_"
   },
   "outputs": [],
   "source": [
    "results['labels'].value_counts()"
   ]
  },
  {
   "cell_type": "code",
   "execution_count": null,
   "metadata": {
    "id": "1xwhULi1p0lo"
   },
   "outputs": [],
   "source": [
    "#train background mean = 0.003405, train background std = 0.005413\n",
    "train_mean = 0.003405\n",
    "train_std = 0.005413\n",
    "\n",
    "coef = 1 #1/3, 1/2, 1, 2, 3\n",
    "threshold = train_mean + train_std * coef\n",
    "\n",
    "#binarize labels\n",
    "results['blabels'] = results['labels']\n",
    "results.blabels[results['blabels'] == 'background'] = 0\n",
    "results.blabels[results['blabels'] != 0] = 1\n",
    "\n",
    "#binary predictions according to MSE crossing the threshold\n",
    "results['bpredictions'] = results['mse']\n",
    "results.bpredictions[results['mse'] <= threshold] = int(0)\n",
    "results.bpredictions[results['mse'] > threshold] = int(1)\n",
    "\n",
    "print(results.blabels.value_counts())\n",
    "print(results.bpredictions.value_counts())"
   ]
  },
  {
   "cell_type": "code",
   "execution_count": null,
   "metadata": {
    "id": "FTKHefadoVwf"
   },
   "outputs": [],
   "source": [
    "#function for printing AUC, classification report, and confusion matrix for given data (dataframe with blabels and bpredictions), title is a string to differentiate the printed results\n",
    "def print_result(data, title):\n",
    "   if(len(data.blabels.unique()) < 2):\n",
    "     print(title + ' subset contains a single label')\n",
    "     return\n",
    "   print('AUC (' + title + '):', metrics.roc_auc_score(data.blabels.to_list(), data.bpredictions.to_list()))\n",
    "   print(metrics.classification_report(data.blabels.to_list(), data.bpredictions.to_list(), digits=4))\n",
    "   print(metrics.confusion_matrix(data.blabels.to_list(), data.bpredictions.to_list()))\n",
    "   print()"
   ]
  },
  {
   "cell_type": "code",
   "execution_count": null,
   "metadata": {
    "id": "DKid0owbaK-m"
   },
   "outputs": [],
   "source": [
    "print_result(results[results['labels'] != 'blacklist'], 'without blacklist')"
   ]
  },
  {
   "cell_type": "code",
   "execution_count": null,
   "metadata": {
    "id": "Ifz1SzQ6AcyQ"
   },
   "outputs": [],
   "source": [
    "#print results for various test sets (filtered without selected classes)\n",
    "print('Threshold = ', threshold)\n",
    "\n",
    "print_result(results, 'all')\n",
    "\n",
    "results_without_blacklist = results[results['labels'] != 'blacklist']\n",
    "print_result(results_without_blacklist, 'without blacklist')\n",
    "\n",
    "print_result(results[(results['labels'] == 'background') | (results['labels'] == 'dos')], 'background + dos')\n",
    "print_result(results[(results['labels'] == 'background') | (results['labels'] == 'nerisbotnet')], 'background + nerisbotnet')\n",
    "print_result(results[(results['labels'] == 'background') | (results['labels'] == 'anomaly-spam')], 'background + anomaly-spam')\n",
    "print_result(results[(results['labels'] == 'background') | (results['labels'] == 'scan11')], 'background + scan11')\n",
    "print_result(results[(results['labels'] == 'background') | (results['labels'] == 'scan44')], 'background + scan44')"
   ]
  },
  {
   "cell_type": "code",
   "execution_count": null,
   "metadata": {
    "id": "7_sUol-mtOxC"
   },
   "outputs": [],
   "source": [
    "#AUC ROC (based on MSE) without blacklist\n",
    "\n",
    "fig, ax = plt.subplots(figsize=(5, 5))\n",
    "\n",
    "fpr, tpr, thresholds = metrics.roc_curve(results_without_blacklist.blabels.to_list(), results_without_blacklist.mse.to_list())\n",
    "auc = metrics.auc(fpr, tpr)\n",
    "\n",
    "ax.plot([0, 1], [0,1], 'k--')\n",
    "ax.plot(fpr, tpr, label=f'MSE (AUC = {auc: .2f})')\n",
    "ax.set_xlabel('False positive rate')\n",
    "ax.set_ylabel('True positive rate')\n",
    "ax.legend(loc='lower right')\n",
    "\n",
    "fig.show()\n",
    "#fig.savefig('ad_auc-roc.pdf')"
   ]
  },
  {
   "cell_type": "code",
   "execution_count": null,
   "metadata": {
    "id": "1YZCaJT10TH9"
   },
   "outputs": [],
   "source": [
    "#confusion matrix without blacklist\n",
    "\n",
    "cmd = metrics.ConfusionMatrixDisplay(metrics.confusion_matrix(results_without_blacklist.blabels.to_list(), results_without_blacklist.bpredictions.to_list()), display_labels=['0','1'])\n",
    "cmd.plot()\n",
    "#cmd.figure_.savefig('ad_cm.pdf')"
   ]
  },
  {
   "cell_type": "code",
   "execution_count": null,
   "metadata": {
    "id": "o3f2T9bxIYMH"
   },
   "outputs": [],
   "source": [
    "#KDE of MSE without blacklist\n",
    "\n",
    "normal_recon_error = results_without_blacklist[results_without_blacklist['labels'] == 'background']['mse'].tolist()\n",
    "malicious_recon_error = results_without_blacklist[results_without_blacklist['labels'] != 'background']['mse'].tolist()\n",
    "\n",
    "fig, ax = plt.subplots(figsize=(5, 5))\n",
    "\n",
    "sns.kdeplot(normal_recon_error, ax=ax, label='Background MSE')\n",
    "sns.kdeplot(malicious_recon_error, ax=ax, label='Anomaly MSE')\n",
    "\n",
    "#ax.set_title(f'Reconstruction Error Distribution of background traffic and anomalies')\n",
    "ax.legend(loc='lower right')\n",
    "\n",
    "fig.show()\n",
    "#fig.savefig('ad_kde.pdf')"
   ]
  },
  {
   "cell_type": "code",
   "execution_count": null,
   "metadata": {
    "id": "qvyMz8hVRT4U"
   },
   "outputs": [],
   "source": [
    "#histogram of MSE without blacklist (with upper limit to better see the density of anomalies)\n",
    "\n",
    "fig, ax = plt.subplots(figsize=(10, 5))\n",
    "\n",
    "ax.hist([normal_recon_error, malicious_recon_error], bins=100, range=(0, 0.06), label=['Background', 'Anomaly'])\n",
    "ax.set_ylim(0, 100)\n",
    "ax.set_xlabel(\"MSE\")\n",
    "ax.set_ylabel(\"Density\")\n",
    "ax.legend(loc='upper right')\n",
    "fig.show()\n",
    "#fig.savefig('ad_hist.pdf')"
   ]
  },
  {
   "cell_type": "code",
   "execution_count": null,
   "metadata": {
    "id": "c5foUOT35m2I"
   },
   "outputs": [],
   "source": []
  }
 ],
 "metadata": {
  "colab": {
   "provenance": []
  },
  "kernelspec": {
   "display_name": "Python 3 (ipykernel)",
   "language": "python",
   "name": "python3"
  },
  "language_info": {
   "codemirror_mode": {
    "name": "ipython",
    "version": 3
   },
   "file_extension": ".py",
   "mimetype": "text/x-python",
   "name": "python",
   "nbconvert_exporter": "python",
   "pygments_lexer": "ipython3",
   "version": "3.7.7"
  }
 },
 "nbformat": 4,
 "nbformat_minor": 1
}
